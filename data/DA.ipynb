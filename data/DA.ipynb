{
 "cells": [
  {
   "cell_type": "code",
   "execution_count": 1,
   "source": [
    "import numpy as np\n",
    "import pandas as pd\n",
    "pd.set_option('max_columns', 100)\n",
    "pd.set_option('max_rows', 100)\n",
    "from tqdm import tqdm\n",
    "tqdm.pandas(desc='pandas bar')\n",
    "import pickle\n",
    "from sklearn.preprocessing import LabelEncoder\n",
    "import time"
   ],
   "outputs": [],
   "metadata": {}
  },
  {
   "cell_type": "markdown",
   "source": [
    "# 读数据\n",
    "item读取有些麻烦, 需要按行来读. 其他数据正常使用pandas来读."
   ],
   "metadata": {}
  },
  {
   "cell_type": "code",
   "execution_count": 2,
   "source": [
    "data_path = r'./data_for_ctr_predict/'\n",
    "user = pd.read_table(data_path+'user_info.txt', sep='\\t', names=['user_id', 'user_device', 'user_system', 'user_province', 'user_city', 'user_age', 'user_gender'])\n",
    "#item = pd.read_table(data_path+'doc_info.txt', sep='\\t', names=['item_id', 'item_title', 'item_time', 'item_picture', 'item_cluster1', 'item_cluster2', 'item_keywords'])\n",
    "train = pd.read_table(data_path+'train_data.txt', sep='\\t', names=['user_id', 'item_id', 'time', 'network', 'refresh', 'position', 'label', 'duration'])\n",
    "test = pd.read_table(data_path+'test_data.txt', sep='\\t', names=['id', 'user_id', 'item_id', 'time', 'network', 'refresh'])"
   ],
   "outputs": [],
   "metadata": {}
  },
  {
   "cell_type": "code",
   "execution_count": 3,
   "source": [
    "def reduce_mem_usage(df, verbose=True):\n",
    "    numerics = ['int16', 'int32', 'int64', 'float16', 'float32', 'float64']\n",
    "    start_mem = df.memory_usage().sum() / 1024 ** 2\n",
    "    for col in df.columns:\n",
    "        col_type = df[col].dtypes\n",
    "        if col_type in numerics:\n",
    "            c_min = df[col].min()\n",
    "            c_max = df[col].max()\n",
    "            if str(col_type)[:3] == 'int':\n",
    "                if c_min > np.iinfo(np.int8).min and c_max < np.iinfo(np.int8).max:\n",
    "                    df[col] = df[col].astype(np.int8)\n",
    "                elif c_min > np.iinfo(np.int16).min and c_max < np.iinfo(np.int16).max:\n",
    "                    df[col] = df[col].astype(np.int16)\n",
    "                elif c_min > np.iinfo(np.int32).min and c_max < np.iinfo(np.int32).max:\n",
    "                    df[col] = df[col].astype(np.int32)\n",
    "                elif c_min > np.iinfo(np.int64).min and c_max < np.iinfo(np.int64).max:\n",
    "                    df[col] = df[col].astype(np.int64)\n",
    "            else:\n",
    "                if c_min > np.finfo(np.float16).min and c_max < np.finfo(np.float16).max:\n",
    "                    df[col] = df[col].astype(np.float16)\n",
    "                elif c_min > np.finfo(np.float32).min and c_max < np.finfo(np.float32).max:\n",
    "                    df[col] = df[col].astype(np.float32)\n",
    "                else:\n",
    "                    df[col] = df[col].astype(np.float64)\n",
    "    end_mem = df.memory_usage().sum() / 1024 ** 2\n",
    "    if verbose:\n",
    "        print('Mem. usage decreased to {:5.2f} Mb ({:.1f}% reduction)'.format(end_mem, 100 * (start_mem - end_mem) / start_mem))\n",
    "    return df"
   ],
   "outputs": [],
   "metadata": {}
  },
  {
   "cell_type": "code",
   "execution_count": 4,
   "source": [
    "data_path = r'./data_for_ctr_predict/'\n",
    "with open(data_path+'doc_info.txt', 'r') as f:\n",
    "    lines = f.readlines()\n",
    "\n",
    "item = []\n",
    "for line in tqdm(lines):\n",
    "    unit = line.split('\\t')\n",
    "    if len(unit)<7:\n",
    "        for _ in range(7-len(unit)):\n",
    "            unit.append(np.nan)\n",
    "    item.append(unit)\n",
    "#item = np.array(item)"
   ],
   "outputs": [
    {
     "output_type": "stream",
     "name": "stderr",
     "text": [
      "100%|██████████| 633391/633391 [00:01<00:00, 323044.32it/s]\n"
     ]
    }
   ],
   "metadata": {}
  },
  {
   "cell_type": "code",
   "execution_count": 5,
   "source": [
    "item = pd.DataFrame(item, columns=['item_id', 'item_title', 'item_time', 'item_picture', 'item_cluster1', 'item_cluster2', 'item_keywords'])\n",
    "item['item_id'] = item['item_id'].astype('int64')"
   ],
   "outputs": [],
   "metadata": {}
  },
  {
   "cell_type": "markdown",
   "source": [
    "# 检查数据"
   ],
   "metadata": {}
  },
  {
   "cell_type": "markdown",
   "source": [
    "## 检查是否存在冷启动\n",
    "验证了一下, 训练集和测试集内都不存在冷启动问题"
   ],
   "metadata": {}
  },
  {
   "cell_type": "code",
   "execution_count": 5,
   "source": [
    "len(set(train['item_id'].unique())-set(item['item_id'].unique())), len(set(train['user_id'].unique())-set(user['user_id'].unique()))"
   ],
   "outputs": [
    {
     "output_type": "execute_result",
     "data": {
      "text/plain": [
       "(0, 0)"
      ]
     },
     "metadata": {},
     "execution_count": 5
    }
   ],
   "metadata": {}
  },
  {
   "cell_type": "code",
   "execution_count": 6,
   "source": [
    "len(set(test['item_id'].unique())-set(item['item_id'].unique())), len(set(test['user_id'].unique())-set(user['user_id'].unique()))"
   ],
   "outputs": [
    {
     "output_type": "execute_result",
     "data": {
      "text/plain": [
       "(0, 0)"
      ]
     },
     "metadata": {},
     "execution_count": 6
    }
   ],
   "metadata": {}
  },
  {
   "cell_type": "markdown",
   "source": [
    "## 检查空缺值"
   ],
   "metadata": {}
  },
  {
   "cell_type": "code",
   "execution_count": 7,
   "source": [
    "user.isnull().sum() / user.shape[0]"
   ],
   "outputs": [
    {
     "output_type": "execute_result",
     "data": {
      "text/plain": [
       "user_id          0.000000\n",
       "user_device      0.044036\n",
       "user_system      0.044077\n",
       "user_province    0.059972\n",
       "user_city        0.062450\n",
       "user_age         0.038931\n",
       "user_gender      0.038074\n",
       "dtype: float64"
      ]
     },
     "metadata": {},
     "execution_count": 7
    }
   ],
   "metadata": {}
  },
  {
   "cell_type": "code",
   "execution_count": 8,
   "source": [
    "user['user_age'].fillna('A_0_24:0.25,A_25_29:0.25,A_30_39:0.25,A_40+:0.25', inplace=True)\n",
    "user['user_gender'].fillna('female:0.5,male:0.5', inplace=True)"
   ],
   "outputs": [],
   "metadata": {}
  },
  {
   "cell_type": "code",
   "execution_count": 9,
   "source": [
    "item.isnull().sum() / item.shape[0]"
   ],
   "outputs": [
    {
     "output_type": "execute_result",
     "data": {
      "text/plain": [
       "item_id          0.000000\n",
       "item_title       0.000000\n",
       "item_time        0.000382\n",
       "item_picture     0.000382\n",
       "item_cluster1    0.000444\n",
       "item_cluster2    0.000445\n",
       "item_keywords    0.017337\n",
       "dtype: float64"
      ]
     },
     "metadata": {},
     "execution_count": 9
    }
   ],
   "metadata": {}
  },
  {
   "cell_type": "code",
   "execution_count": 10,
   "source": [
    "train.isnull().sum() / train.shape[0]"
   ],
   "outputs": [
    {
     "output_type": "execute_result",
     "data": {
      "text/plain": [
       "user_id     0.0\n",
       "item_id     0.0\n",
       "time        0.0\n",
       "network     0.0\n",
       "refresh     0.0\n",
       "position    0.0\n",
       "label       0.0\n",
       "duration    0.0\n",
       "dtype: float64"
      ]
     },
     "metadata": {},
     "execution_count": 10
    }
   ],
   "metadata": {}
  },
  {
   "cell_type": "code",
   "execution_count": 11,
   "source": [
    "test.isnull().sum() / test.shape[0]"
   ],
   "outputs": [
    {
     "output_type": "execute_result",
     "data": {
      "text/plain": [
       "id         0.0\n",
       "user_id    0.0\n",
       "item_id    0.0\n",
       "time       0.0\n",
       "network    0.0\n",
       "refresh    0.0\n",
       "dtype: float64"
      ]
     },
     "metadata": {},
     "execution_count": 11
    }
   ],
   "metadata": {}
  },
  {
   "cell_type": "markdown",
   "source": [
    "# 处理数据"
   ],
   "metadata": {}
  },
  {
   "cell_type": "markdown",
   "source": [
    "## 处理user特征"
   ],
   "metadata": {}
  },
  {
   "cell_type": "code",
   "execution_count": 12,
   "source": [
    "user.head(10)"
   ],
   "outputs": [
    {
     "output_type": "execute_result",
     "data": {
      "text/plain": [
       "      user_id    user_device user_system user_province user_city  \\\n",
       "0  1000372820       TAS-AN00     Android            广东        广州   \n",
       "1  1000652892         PACM00     Android            河北        唐山   \n",
       "2  1000908852           MI6X     Android            上海        上海   \n",
       "3  1001168798       iPhone11         IOS           NaN       NaN   \n",
       "4  1001305614      M2103K19C     Android            江苏        苏州   \n",
       "5  1001309700       LYA-AL10     Android           黑龙江       哈尔滨   \n",
       "6  1001339860  RedmiNote7Pro     Android            天津        天津   \n",
       "7  1001384888      M2007J22C     Android            河北       石家庄   \n",
       "8   100142658       JEF-AN20     Android            重庆        重庆   \n",
       "9  1001439274       HMA-AL00     Android            山东        淄博   \n",
       "\n",
       "                                            user_age  \\\n",
       "0  A_0_24:0.404616,A_25_29:0.059027,A_30_39:0.516...   \n",
       "1  A_0_24:0.615458,A_25_29:0.086233,A_30_39:0.141...   \n",
       "2  A_0_24:0.123255,A_25_29:0.208225,A_30_39:0.298...   \n",
       "3  A_0_24:0.436296,A_25_29:0.489370,A_30_39:0.061...   \n",
       "4  A_0_24:0.006632,A_25_29:0.043408,A_30_39:0.350...   \n",
       "5  A_0_24:0.413768,A_25_29:0.437501,A_30_39:0.141...   \n",
       "6  A_0_24:0.067328,A_25_29:0.029283,A_30_39:0.303...   \n",
       "7  A_0_24:0.008414,A_25_29:0.027505,A_30_39:0.161...   \n",
       "8  A_0_24:0.160670,A_25_29:0.695923,A_30_39:0.109...   \n",
       "9  A_0_24:0.000172,A_25_29:0.007701,A_30_39:0.778...   \n",
       "\n",
       "                     user_gender  \n",
       "0  female:0.051339,male:0.948661  \n",
       "1  female:0.280295,male:0.719705  \n",
       "2  female:0.000000,male:1.000000  \n",
       "3  female:0.870710,male:0.129290  \n",
       "4  female:0.000000,male:1.000000  \n",
       "5  female:0.000000,male:1.000000  \n",
       "6  female:0.155445,male:0.844555  \n",
       "7  female:0.000000,male:1.000000  \n",
       "8  female:1.000000,male:0.000000  \n",
       "9  female:0.000000,male:1.000000  "
      ],
      "text/html": [
       "<div>\n",
       "<style scoped>\n",
       "    .dataframe tbody tr th:only-of-type {\n",
       "        vertical-align: middle;\n",
       "    }\n",
       "\n",
       "    .dataframe tbody tr th {\n",
       "        vertical-align: top;\n",
       "    }\n",
       "\n",
       "    .dataframe thead th {\n",
       "        text-align: right;\n",
       "    }\n",
       "</style>\n",
       "<table border=\"1\" class=\"dataframe\">\n",
       "  <thead>\n",
       "    <tr style=\"text-align: right;\">\n",
       "      <th></th>\n",
       "      <th>user_id</th>\n",
       "      <th>user_device</th>\n",
       "      <th>user_system</th>\n",
       "      <th>user_province</th>\n",
       "      <th>user_city</th>\n",
       "      <th>user_age</th>\n",
       "      <th>user_gender</th>\n",
       "    </tr>\n",
       "  </thead>\n",
       "  <tbody>\n",
       "    <tr>\n",
       "      <th>0</th>\n",
       "      <td>1000372820</td>\n",
       "      <td>TAS-AN00</td>\n",
       "      <td>Android</td>\n",
       "      <td>广东</td>\n",
       "      <td>广州</td>\n",
       "      <td>A_0_24:0.404616,A_25_29:0.059027,A_30_39:0.516...</td>\n",
       "      <td>female:0.051339,male:0.948661</td>\n",
       "    </tr>\n",
       "    <tr>\n",
       "      <th>1</th>\n",
       "      <td>1000652892</td>\n",
       "      <td>PACM00</td>\n",
       "      <td>Android</td>\n",
       "      <td>河北</td>\n",
       "      <td>唐山</td>\n",
       "      <td>A_0_24:0.615458,A_25_29:0.086233,A_30_39:0.141...</td>\n",
       "      <td>female:0.280295,male:0.719705</td>\n",
       "    </tr>\n",
       "    <tr>\n",
       "      <th>2</th>\n",
       "      <td>1000908852</td>\n",
       "      <td>MI6X</td>\n",
       "      <td>Android</td>\n",
       "      <td>上海</td>\n",
       "      <td>上海</td>\n",
       "      <td>A_0_24:0.123255,A_25_29:0.208225,A_30_39:0.298...</td>\n",
       "      <td>female:0.000000,male:1.000000</td>\n",
       "    </tr>\n",
       "    <tr>\n",
       "      <th>3</th>\n",
       "      <td>1001168798</td>\n",
       "      <td>iPhone11</td>\n",
       "      <td>IOS</td>\n",
       "      <td>NaN</td>\n",
       "      <td>NaN</td>\n",
       "      <td>A_0_24:0.436296,A_25_29:0.489370,A_30_39:0.061...</td>\n",
       "      <td>female:0.870710,male:0.129290</td>\n",
       "    </tr>\n",
       "    <tr>\n",
       "      <th>4</th>\n",
       "      <td>1001305614</td>\n",
       "      <td>M2103K19C</td>\n",
       "      <td>Android</td>\n",
       "      <td>江苏</td>\n",
       "      <td>苏州</td>\n",
       "      <td>A_0_24:0.006632,A_25_29:0.043408,A_30_39:0.350...</td>\n",
       "      <td>female:0.000000,male:1.000000</td>\n",
       "    </tr>\n",
       "    <tr>\n",
       "      <th>5</th>\n",
       "      <td>1001309700</td>\n",
       "      <td>LYA-AL10</td>\n",
       "      <td>Android</td>\n",
       "      <td>黑龙江</td>\n",
       "      <td>哈尔滨</td>\n",
       "      <td>A_0_24:0.413768,A_25_29:0.437501,A_30_39:0.141...</td>\n",
       "      <td>female:0.000000,male:1.000000</td>\n",
       "    </tr>\n",
       "    <tr>\n",
       "      <th>6</th>\n",
       "      <td>1001339860</td>\n",
       "      <td>RedmiNote7Pro</td>\n",
       "      <td>Android</td>\n",
       "      <td>天津</td>\n",
       "      <td>天津</td>\n",
       "      <td>A_0_24:0.067328,A_25_29:0.029283,A_30_39:0.303...</td>\n",
       "      <td>female:0.155445,male:0.844555</td>\n",
       "    </tr>\n",
       "    <tr>\n",
       "      <th>7</th>\n",
       "      <td>1001384888</td>\n",
       "      <td>M2007J22C</td>\n",
       "      <td>Android</td>\n",
       "      <td>河北</td>\n",
       "      <td>石家庄</td>\n",
       "      <td>A_0_24:0.008414,A_25_29:0.027505,A_30_39:0.161...</td>\n",
       "      <td>female:0.000000,male:1.000000</td>\n",
       "    </tr>\n",
       "    <tr>\n",
       "      <th>8</th>\n",
       "      <td>100142658</td>\n",
       "      <td>JEF-AN20</td>\n",
       "      <td>Android</td>\n",
       "      <td>重庆</td>\n",
       "      <td>重庆</td>\n",
       "      <td>A_0_24:0.160670,A_25_29:0.695923,A_30_39:0.109...</td>\n",
       "      <td>female:1.000000,male:0.000000</td>\n",
       "    </tr>\n",
       "    <tr>\n",
       "      <th>9</th>\n",
       "      <td>1001439274</td>\n",
       "      <td>HMA-AL00</td>\n",
       "      <td>Android</td>\n",
       "      <td>山东</td>\n",
       "      <td>淄博</td>\n",
       "      <td>A_0_24:0.000172,A_25_29:0.007701,A_30_39:0.778...</td>\n",
       "      <td>female:0.000000,male:1.000000</td>\n",
       "    </tr>\n",
       "  </tbody>\n",
       "</table>\n",
       "</div>"
      ]
     },
     "metadata": {},
     "execution_count": 12
    }
   ],
   "metadata": {}
  },
  {
   "cell_type": "code",
   "execution_count": 7,
   "source": [
    "def get_multi_hot(x, k):\n",
    "    str_list = x.split(',')\n",
    "    res = [float(s.split(':')[1]) for s in str_list]\n",
    "    for _ in range(k-len(res)):\n",
    "        print('加0')\n",
    "        res.append(0)\n",
    "    if len(res) == 16:\n",
    "        res = np.array(res)\n",
    "        res = res[[0,4,8,12]]\n",
    "        res = list(res)\n",
    "    if (k == 2) & (len(res) == 4):\n",
    "        res = np.array(res)\n",
    "        res = res[[0,2]]\n",
    "        res = list(res)\n",
    "    if len(res) != k:\n",
    "        print(x)\n",
    "    return res"
   ],
   "outputs": [],
   "metadata": {}
  },
  {
   "cell_type": "code",
   "execution_count": 8,
   "source": [
    "# 将age和gender都处理成列表的形式\n",
    "user['new_age'] = user['user_age'].progress_apply(lambda x: get_multi_hot(x, 4))\n",
    "user['new_gender'] = user['user_gender'].progress_apply(lambda x: get_multi_hot(x, 2))"
   ],
   "outputs": [
    {
     "output_type": "stream",
     "name": "stderr",
     "text": [
      "pandas bar: 100%|██████████| 1538384/1538384 [00:06<00:00, 223144.72it/s]\n",
      "pandas bar:  15%|█▍        | 229271/1538384 [00:00<00:05, 256565.57it/s]"
     ]
    },
    {
     "output_type": "stream",
     "name": "stdout",
     "text": [
      "加0\n"
     ]
    },
    {
     "output_type": "stream",
     "name": "stderr",
     "text": [
      "pandas bar:  24%|██▍       | 370733/1538384 [00:01<00:03, 326880.01it/s]"
     ]
    },
    {
     "output_type": "stream",
     "name": "stdout",
     "text": [
      "加0\n",
      "加0\n"
     ]
    },
    {
     "output_type": "stream",
     "name": "stderr",
     "text": [
      "pandas bar:  45%|████▍     | 687717/1538384 [00:02<00:03, 265994.55it/s]"
     ]
    },
    {
     "output_type": "stream",
     "name": "stdout",
     "text": [
      "加0\n",
      "加0\n",
      "加0\n"
     ]
    },
    {
     "output_type": "stream",
     "name": "stderr",
     "text": [
      "pandas bar:  54%|█████▍    | 826915/1538384 [00:02<00:02, 324407.12it/s]"
     ]
    },
    {
     "output_type": "stream",
     "name": "stdout",
     "text": [
      "加0\n",
      "加0\n"
     ]
    },
    {
     "output_type": "stream",
     "name": "stderr",
     "text": [
      "pandas bar:  63%|██████▎   | 968551/1538384 [00:03<00:01, 344760.41it/s]"
     ]
    },
    {
     "output_type": "stream",
     "name": "stdout",
     "text": [
      "加0\n"
     ]
    },
    {
     "output_type": "stream",
     "name": "stderr",
     "text": [
      "pandas bar:  70%|██████▉   | 1074430/1538384 [00:03<00:01, 349307.49it/s]"
     ]
    },
    {
     "output_type": "stream",
     "name": "stdout",
     "text": [
      "加0\n"
     ]
    },
    {
     "output_type": "stream",
     "name": "stderr",
     "text": [
      "pandas bar:  83%|████████▎ | 1282698/1538384 [00:04<00:00, 293741.73it/s]"
     ]
    },
    {
     "output_type": "stream",
     "name": "stdout",
     "text": [
      "加0\n",
      "加0\n",
      "加0\n",
      "加0\n"
     ]
    },
    {
     "output_type": "stream",
     "name": "stderr",
     "text": [
      "pandas bar:  95%|█████████▍| 1457728/1538384 [00:05<00:00, 337088.26it/s]"
     ]
    },
    {
     "output_type": "stream",
     "name": "stdout",
     "text": [
      "加0\n",
      "加0\n"
     ]
    },
    {
     "output_type": "stream",
     "name": "stderr",
     "text": [
      "pandas bar: 100%|██████████| 1538384/1538384 [00:05<00:00, 282314.60it/s]\n"
     ]
    },
    {
     "output_type": "stream",
     "name": "stdout",
     "text": [
      "加0\n"
     ]
    }
   ],
   "metadata": {}
  },
  {
   "cell_type": "code",
   "execution_count": 9,
   "source": [
    "user.drop(['user_age', 'user_gender'], axis=1, inplace=True)\n",
    "user.rename(columns={'new_age': 'user_age', 'new_gender': 'user_gender'}, inplace=True)"
   ],
   "outputs": [],
   "metadata": {}
  },
  {
   "cell_type": "code",
   "execution_count": 10,
   "source": [
    "user[['user_device', 'user_system', 'user_province', 'user_city']] = user[['user_device', 'user_system', 'user_province', 'user_city']].fillna('nan')"
   ],
   "outputs": [],
   "metadata": {}
  },
  {
   "cell_type": "code",
   "execution_count": 11,
   "source": [
    "user.isnull().sum()"
   ],
   "outputs": [
    {
     "output_type": "execute_result",
     "data": {
      "text/plain": [
       "user_id          0\n",
       "user_device      0\n",
       "user_system      0\n",
       "user_province    0\n",
       "user_city        0\n",
       "user_age         0\n",
       "user_gender      0\n",
       "dtype: int64"
      ]
     },
     "metadata": {},
     "execution_count": 11
    }
   ],
   "metadata": {}
  },
  {
   "cell_type": "code",
   "execution_count": 12,
   "source": [
    "from sklearn.preprocessing import LabelEncoder\n",
    "encoder = LabelEncoder()\n",
    "user[['user_device', 'user_system', 'user_province', 'user_city']] = user[['user_device', 'user_system', 'user_province', 'user_city']].apply(encoder.fit_transform)"
   ],
   "outputs": [],
   "metadata": {}
  },
  {
   "cell_type": "code",
   "execution_count": 13,
   "source": [
    "uid_dict = dict(zip(user.user_id, user.index))"
   ],
   "outputs": [],
   "metadata": {}
  },
  {
   "cell_type": "code",
   "execution_count": 14,
   "source": [
    "user['new_id'] = user.index\n",
    "user.drop(['user_id'], axis=1, inplace=True)\n",
    "user.rename(columns={'new_id': 'user_id'}, inplace=True)\n",
    "user = user[['user_id', 'user_device', 'user_system', 'user_province', 'user_city', 'user_gender', 'user_age']]"
   ],
   "outputs": [],
   "metadata": {}
  },
  {
   "cell_type": "code",
   "execution_count": 20,
   "source": [
    "user[['user_id', 'user_device', 'user_system', 'user_province', 'user_city']].nunique()"
   ],
   "outputs": [
    {
     "output_type": "execute_result",
     "data": {
      "text/plain": [
       "user_id          1538384\n",
       "user_device         3096\n",
       "user_system            3\n",
       "user_province        328\n",
       "user_city            768\n",
       "dtype: int64"
      ]
     },
     "metadata": {},
     "execution_count": 20
    }
   ],
   "metadata": {}
  },
  {
   "cell_type": "markdown",
   "source": [
    "## 处理item特征"
   ],
   "metadata": {}
  },
  {
   "cell_type": "code",
   "execution_count": 24,
   "source": [
    "item.head(10)"
   ],
   "outputs": [
    {
     "output_type": "execute_result",
     "data": {
      "text/plain": [
       "     item_id                            item_title      item_time  \\\n",
       "0  349635709         拿到c1驾照后,实习期扣分了会怎样?扣12分驾照会吊销么?  1572519971000   \n",
       "1  361653323  疫情谣言粉碎机丨接种新冠疫苗后用麻药或致死?盘点最新疫情谣言,别被忽悠了  1624522285000   \n",
       "2  426732705          实拍本田飞度:空间真大,8万出头工薪族可选,但内饰能忍?  1610808303000   \n",
       "3  430221183            搭载135kw电机比亚迪秦plus纯电动版外观更精致  1612581556000   \n",
       "4  441756326         【提车作业】不顾他人眼光帕萨特phev俘获30老男人浪子心  1618825835000   \n",
       "5  443485341             魏延有反骨之心都能重用,赵云忠心为什么却不被重用?  1619484501000   \n",
       "6  447124796  高考志愿|14个省份新高考录取有变化,这些专业傻傻分不清楚,填志愿看仔细  1624506618000   \n",
       "7  448023100                               三国煮酒论英雄  1624601704000   \n",
       "8  452701283                             懂我所需—吉利帝豪  1622081779000   \n",
       "9  452933213              美丽的非洲长河?可以从这条河中,人的形象与命运?  1622121296000   \n",
       "\n",
       "  item_picture item_cluster1   item_cluster2  \\\n",
       "0            9            汽车           汽车/用车   \n",
       "1            1            健康  健康/疾病防护治疗及西医用药   \n",
       "2            9            汽车           汽车/买车   \n",
       "3            2            汽车           汽车/买车   \n",
       "4           23            汽车           汽车/买车   \n",
       "5            4            历史          历史/中国史   \n",
       "6            1            教育           教育/高考   \n",
       "7            1          文化艺术         文化艺术/读书   \n",
       "8           19            汽车           汽车/买车   \n",
       "9            3            旅游         旅游/旅游攻略   \n",
       "\n",
       "                                       item_keywords  \n",
       "0  上班族:8.469502,买车:8.137443,二手车:9.022247,副页:11.21...  \n",
       "1  医生:14.760494,吸烟:16.474872,板蓝根:15.597788,板蓝根^^熏...  \n",
       "2  155n:8.979802,polo:7.951116,中控台:5.954278,中网:7....  \n",
       "3  etc:12.055207,代表:8.878175,内饰:5.342025,刀片:9.453...  \n",
       "4  丰田凯美瑞:12.772149,充电器:8.394001,品牌:8.436843,城市:7....  \n",
       "5  三国:8.979797,五虎将:13.072728,人才:7.532783,保镖:6.811...  \n",
       "6  兴趣:11.558689,家长:11.350382,就业:12.176434,考生:11.5...  \n",
       "7                          历史:9.184261,故事:9.405677\\n  \n",
       "8  ec7:14.355725,交互:10.203005,人机交互:10.540608,人机交互...  \n",
       "9  东非:8.944922,东非高原:11.758570,两河:9.025832,伊兹:7.49...  "
      ],
      "text/html": [
       "<div>\n",
       "<style scoped>\n",
       "    .dataframe tbody tr th:only-of-type {\n",
       "        vertical-align: middle;\n",
       "    }\n",
       "\n",
       "    .dataframe tbody tr th {\n",
       "        vertical-align: top;\n",
       "    }\n",
       "\n",
       "    .dataframe thead th {\n",
       "        text-align: right;\n",
       "    }\n",
       "</style>\n",
       "<table border=\"1\" class=\"dataframe\">\n",
       "  <thead>\n",
       "    <tr style=\"text-align: right;\">\n",
       "      <th></th>\n",
       "      <th>item_id</th>\n",
       "      <th>item_title</th>\n",
       "      <th>item_time</th>\n",
       "      <th>item_picture</th>\n",
       "      <th>item_cluster1</th>\n",
       "      <th>item_cluster2</th>\n",
       "      <th>item_keywords</th>\n",
       "    </tr>\n",
       "  </thead>\n",
       "  <tbody>\n",
       "    <tr>\n",
       "      <th>0</th>\n",
       "      <td>349635709</td>\n",
       "      <td>拿到c1驾照后,实习期扣分了会怎样?扣12分驾照会吊销么?</td>\n",
       "      <td>1572519971000</td>\n",
       "      <td>9</td>\n",
       "      <td>汽车</td>\n",
       "      <td>汽车/用车</td>\n",
       "      <td>上班族:8.469502,买车:8.137443,二手车:9.022247,副页:11.21...</td>\n",
       "    </tr>\n",
       "    <tr>\n",
       "      <th>1</th>\n",
       "      <td>361653323</td>\n",
       "      <td>疫情谣言粉碎机丨接种新冠疫苗后用麻药或致死?盘点最新疫情谣言,别被忽悠了</td>\n",
       "      <td>1624522285000</td>\n",
       "      <td>1</td>\n",
       "      <td>健康</td>\n",
       "      <td>健康/疾病防护治疗及西医用药</td>\n",
       "      <td>医生:14.760494,吸烟:16.474872,板蓝根:15.597788,板蓝根^^熏...</td>\n",
       "    </tr>\n",
       "    <tr>\n",
       "      <th>2</th>\n",
       "      <td>426732705</td>\n",
       "      <td>实拍本田飞度:空间真大,8万出头工薪族可选,但内饰能忍?</td>\n",
       "      <td>1610808303000</td>\n",
       "      <td>9</td>\n",
       "      <td>汽车</td>\n",
       "      <td>汽车/买车</td>\n",
       "      <td>155n:8.979802,polo:7.951116,中控台:5.954278,中网:7....</td>\n",
       "    </tr>\n",
       "    <tr>\n",
       "      <th>3</th>\n",
       "      <td>430221183</td>\n",
       "      <td>搭载135kw电机比亚迪秦plus纯电动版外观更精致</td>\n",
       "      <td>1612581556000</td>\n",
       "      <td>2</td>\n",
       "      <td>汽车</td>\n",
       "      <td>汽车/买车</td>\n",
       "      <td>etc:12.055207,代表:8.878175,内饰:5.342025,刀片:9.453...</td>\n",
       "    </tr>\n",
       "    <tr>\n",
       "      <th>4</th>\n",
       "      <td>441756326</td>\n",
       "      <td>【提车作业】不顾他人眼光帕萨特phev俘获30老男人浪子心</td>\n",
       "      <td>1618825835000</td>\n",
       "      <td>23</td>\n",
       "      <td>汽车</td>\n",
       "      <td>汽车/买车</td>\n",
       "      <td>丰田凯美瑞:12.772149,充电器:8.394001,品牌:8.436843,城市:7....</td>\n",
       "    </tr>\n",
       "    <tr>\n",
       "      <th>5</th>\n",
       "      <td>443485341</td>\n",
       "      <td>魏延有反骨之心都能重用,赵云忠心为什么却不被重用?</td>\n",
       "      <td>1619484501000</td>\n",
       "      <td>4</td>\n",
       "      <td>历史</td>\n",
       "      <td>历史/中国史</td>\n",
       "      <td>三国:8.979797,五虎将:13.072728,人才:7.532783,保镖:6.811...</td>\n",
       "    </tr>\n",
       "    <tr>\n",
       "      <th>6</th>\n",
       "      <td>447124796</td>\n",
       "      <td>高考志愿|14个省份新高考录取有变化,这些专业傻傻分不清楚,填志愿看仔细</td>\n",
       "      <td>1624506618000</td>\n",
       "      <td>1</td>\n",
       "      <td>教育</td>\n",
       "      <td>教育/高考</td>\n",
       "      <td>兴趣:11.558689,家长:11.350382,就业:12.176434,考生:11.5...</td>\n",
       "    </tr>\n",
       "    <tr>\n",
       "      <th>7</th>\n",
       "      <td>448023100</td>\n",
       "      <td>三国煮酒论英雄</td>\n",
       "      <td>1624601704000</td>\n",
       "      <td>1</td>\n",
       "      <td>文化艺术</td>\n",
       "      <td>文化艺术/读书</td>\n",
       "      <td>历史:9.184261,故事:9.405677\\n</td>\n",
       "    </tr>\n",
       "    <tr>\n",
       "      <th>8</th>\n",
       "      <td>452701283</td>\n",
       "      <td>懂我所需—吉利帝豪</td>\n",
       "      <td>1622081779000</td>\n",
       "      <td>19</td>\n",
       "      <td>汽车</td>\n",
       "      <td>汽车/买车</td>\n",
       "      <td>ec7:14.355725,交互:10.203005,人机交互:10.540608,人机交互...</td>\n",
       "    </tr>\n",
       "    <tr>\n",
       "      <th>9</th>\n",
       "      <td>452933213</td>\n",
       "      <td>美丽的非洲长河?可以从这条河中,人的形象与命运?</td>\n",
       "      <td>1622121296000</td>\n",
       "      <td>3</td>\n",
       "      <td>旅游</td>\n",
       "      <td>旅游/旅游攻略</td>\n",
       "      <td>东非:8.944922,东非高原:11.758570,两河:9.025832,伊兹:7.49...</td>\n",
       "    </tr>\n",
       "  </tbody>\n",
       "</table>\n",
       "</div>"
      ]
     },
     "metadata": {},
     "execution_count": 24
    }
   ],
   "metadata": {}
  },
  {
   "cell_type": "code",
   "execution_count": 25,
   "source": [
    "def convert_time(x):\n",
    "    try:\n",
    "        return int(x)\n",
    "    except:\n",
    "        return int(1563404932000)\n",
    "\n",
    "item['item_time'] = item['item_time'].apply(convert_time)"
   ],
   "outputs": [],
   "metadata": {}
  },
  {
   "cell_type": "code",
   "execution_count": 26,
   "source": [
    "pd.set_option('display.float_format', lambda x: '%.3f' % x)\n",
    "item['item_time'].astype('int64').describe()"
   ],
   "outputs": [
    {
     "output_type": "execute_result",
     "data": {
      "text/plain": [
       "count          633391.000\n",
       "mean    1624972374821.468\n",
       "std        1291307341.395\n",
       "min     1563404932000.000\n",
       "25%     1624678967000.000\n",
       "50%     1624975577000.000\n",
       "75%     1625301111000.000\n",
       "max     1625672120000.000\n",
       "Name: item_time, dtype: float64"
      ]
     },
     "metadata": {},
     "execution_count": 26
    }
   ],
   "metadata": {}
  },
  {
   "cell_type": "code",
   "execution_count": 27,
   "source": [
    "time_dict = dict(zip(item.item_id, item.item_time))"
   ],
   "outputs": [],
   "metadata": {}
  },
  {
   "cell_type": "markdown",
   "source": [
    "2019-7-18--2021-7-7"
   ],
   "metadata": {}
  },
  {
   "cell_type": "code",
   "execution_count": 28,
   "source": [
    "item = item[['item_id', 'item_picture', 'item_cluster1', 'item_cluster2', 'item_keywords']]"
   ],
   "outputs": [],
   "metadata": {}
  },
  {
   "cell_type": "code",
   "execution_count": 29,
   "source": [
    "encoder = LabelEncoder()\n",
    "item[['item_picture', 'item_cluster1', 'item_cluster2', 'item_keywords']] = item[['item_picture', 'item_cluster1', 'item_cluster2', 'item_keywords']].fillna('nan')\n",
    "item[['item_picture', 'item_cluster1', 'item_cluster2']] = item[['item_picture', 'item_cluster1', 'item_cluster2']].apply(encoder.fit_transform)"
   ],
   "outputs": [],
   "metadata": {}
  },
  {
   "cell_type": "code",
   "execution_count": 30,
   "source": [
    "item.isnull().sum()"
   ],
   "outputs": [
    {
     "output_type": "execute_result",
     "data": {
      "text/plain": [
       "item_id          0\n",
       "item_picture     0\n",
       "item_cluster1    0\n",
       "item_cluster2    0\n",
       "item_keywords    0\n",
       "dtype: int64"
      ]
     },
     "metadata": {},
     "execution_count": 30
    }
   ],
   "metadata": {}
  },
  {
   "cell_type": "markdown",
   "source": [
    "### 处理keywords"
   ],
   "metadata": {}
  },
  {
   "cell_type": "code",
   "execution_count": 31,
   "source": [
    "# 处理关键字信息\n",
    "def chuli_k(x, prob=False):\n",
    "    if x == 'nan':\n",
    "        return x\n",
    "    else:\n",
    "        try:\n",
    "            y = x.split(',')\n",
    "        except:\n",
    "            print(x)\n",
    "        z1 = [] # 存概率\n",
    "        z2 = [] # 存keyword\n",
    "        for kw in y: \n",
    "            if len(kw.split(':'))==2:\n",
    "                # 还要去掉^^\n",
    "                word = kw.split(':')[0].replace('^^','')\n",
    "                if word != '':\n",
    "                    z2.append(word)\n",
    "                    z1.append(kw.split(':')[1])\n",
    "            else:\n",
    "                if ':' in kw:\n",
    "                    # 异形^^:^^火力^^小队:15.721525 处理这种情况\n",
    "                    word = kw.split(':',1)[1].split(':')[0].replace('^^','')\n",
    "                    if word != '':\n",
    "                        z2.append(word)\n",
    "                        z1.append(kw.split(':',1)[1].split(':')[1])\n",
    "        if prob:\n",
    "            return z1\n",
    "        else:\n",
    "            return z2\n",
    "item['keywords'] = item['item_keywords'].progress_apply(lambda x: chuli_k(x))\n",
    "item['keywords_p'] = item['item_keywords'].progress_apply(lambda x: chuli_k(x, prob=True))"
   ],
   "outputs": [
    {
     "output_type": "stream",
     "name": "stderr",
     "text": [
      "pandas bar: 100%|██████████| 633391/633391 [00:24<00:00, 26293.89it/s]\n",
      "pandas bar: 100%|██████████| 633391/633391 [00:23<00:00, 26547.91it/s]\n"
     ]
    }
   ],
   "metadata": {}
  },
  {
   "cell_type": "code",
   "execution_count": 32,
   "source": [
    "# 先得到keywords\n",
    "keywords = []\n",
    "def get_k(x):\n",
    "    if x != 'nan':\n",
    "        keywords.extend(x)\n",
    "item['keywords'].progress_apply(lambda x: get_k(x))\n",
    "keywords = set(keywords)\n",
    "\n",
    "# 对keywords进行label_encode\n",
    "# 处理关键字信息，并得到encode的字典,label_encode时间太久了，用dict来做\n",
    "keywords = list(keywords)\n",
    "ind = list(range(1,len(keywords)+1))\n",
    "keys = dict(zip(keywords,ind))\n",
    "def chuli_kk(x):\n",
    "    if x == 'nan':\n",
    "        return x\n",
    "    else:\n",
    "        z = []\n",
    "        for i in range(len(x)):\n",
    "            z.append(keys[x[i]])\n",
    "        return z\n",
    "item['keywords'] = item['keywords'].progress_apply(lambda x: chuli_kk(x))"
   ],
   "outputs": [
    {
     "output_type": "stream",
     "name": "stderr",
     "text": [
      "pandas bar: 100%|██████████| 633391/633391 [00:01<00:00, 590368.97it/s]\n",
      "pandas bar: 100%|██████████| 633391/633391 [00:11<00:00, 54457.77it/s]\n"
     ]
    }
   ],
   "metadata": {}
  },
  {
   "cell_type": "code",
   "execution_count": 33,
   "source": [
    "iid_dict = dict(zip(item.item_id, item.index))"
   ],
   "outputs": [],
   "metadata": {}
  },
  {
   "cell_type": "code",
   "execution_count": 34,
   "source": [
    "item['new_id'] = item.index\n",
    "item.drop(['item_id'], axis=1, inplace=True)\n",
    "item.rename(columns={'new_id': 'item_id'}, inplace=True)\n",
    "item = item[['item_id', 'item_picture', 'item_cluster1', 'item_cluster2', 'keywords', 'keywords_p']]"
   ],
   "outputs": [],
   "metadata": {}
  },
  {
   "cell_type": "code",
   "execution_count": 21,
   "source": [
    "item.nunique()"
   ],
   "outputs": [
    {
     "output_type": "execute_result",
     "data": {
      "text/plain": [
       "item_id          633391\n",
       "item_picture        160\n",
       "item_cluster1        44\n",
       "item_cluster2       370\n",
       "dtype: int64"
      ]
     },
     "metadata": {},
     "execution_count": 21
    }
   ],
   "metadata": {}
  },
  {
   "cell_type": "markdown",
   "source": [
    "## 处理训练集和测试集"
   ],
   "metadata": {}
  },
  {
   "cell_type": "code",
   "execution_count": 6,
   "source": [
    "train.head(10)"
   ],
   "outputs": [
    {
     "output_type": "execute_result",
     "data": {
      "text/plain": [
       "      user_id    item_id           time  network  refresh  position  label  \\\n",
       "0  1000014754  463510256  1624843756147        5        0        16      0   \n",
       "1  1000014754  463852707  1624843756147        5        0        13      1   \n",
       "2  1000014754  464757134  1625052999841        5        0        13      1   \n",
       "3  1000014754  464617167  1625052999841        5        0        16      1   \n",
       "4  1000014754  465426190  1625382421168        5        0         5      0   \n",
       "5  1000014754  465815972  1625382421168        5        0         4      1   \n",
       "6  1000014754  465991958  1625382421168        5        0         0      1   \n",
       "7  1000014754  463067100  1624757147178        5        0        13      0   \n",
       "8  1000014754  464264603  1625011694982        5        1        18      0   \n",
       "9  1000014754  464295109  1625009731701        5        0        19      1   \n",
       "\n",
       "   duration  \n",
       "0         0  \n",
       "1        80  \n",
       "2      1050  \n",
       "3       286  \n",
       "4         0  \n",
       "5       285  \n",
       "6       353  \n",
       "7         0  \n",
       "8         0  \n",
       "9       215  "
      ],
      "text/html": [
       "<div>\n",
       "<style scoped>\n",
       "    .dataframe tbody tr th:only-of-type {\n",
       "        vertical-align: middle;\n",
       "    }\n",
       "\n",
       "    .dataframe tbody tr th {\n",
       "        vertical-align: top;\n",
       "    }\n",
       "\n",
       "    .dataframe thead th {\n",
       "        text-align: right;\n",
       "    }\n",
       "</style>\n",
       "<table border=\"1\" class=\"dataframe\">\n",
       "  <thead>\n",
       "    <tr style=\"text-align: right;\">\n",
       "      <th></th>\n",
       "      <th>user_id</th>\n",
       "      <th>item_id</th>\n",
       "      <th>time</th>\n",
       "      <th>network</th>\n",
       "      <th>refresh</th>\n",
       "      <th>position</th>\n",
       "      <th>label</th>\n",
       "      <th>duration</th>\n",
       "    </tr>\n",
       "  </thead>\n",
       "  <tbody>\n",
       "    <tr>\n",
       "      <th>0</th>\n",
       "      <td>1000014754</td>\n",
       "      <td>463510256</td>\n",
       "      <td>1624843756147</td>\n",
       "      <td>5</td>\n",
       "      <td>0</td>\n",
       "      <td>16</td>\n",
       "      <td>0</td>\n",
       "      <td>0</td>\n",
       "    </tr>\n",
       "    <tr>\n",
       "      <th>1</th>\n",
       "      <td>1000014754</td>\n",
       "      <td>463852707</td>\n",
       "      <td>1624843756147</td>\n",
       "      <td>5</td>\n",
       "      <td>0</td>\n",
       "      <td>13</td>\n",
       "      <td>1</td>\n",
       "      <td>80</td>\n",
       "    </tr>\n",
       "    <tr>\n",
       "      <th>2</th>\n",
       "      <td>1000014754</td>\n",
       "      <td>464757134</td>\n",
       "      <td>1625052999841</td>\n",
       "      <td>5</td>\n",
       "      <td>0</td>\n",
       "      <td>13</td>\n",
       "      <td>1</td>\n",
       "      <td>1050</td>\n",
       "    </tr>\n",
       "    <tr>\n",
       "      <th>3</th>\n",
       "      <td>1000014754</td>\n",
       "      <td>464617167</td>\n",
       "      <td>1625052999841</td>\n",
       "      <td>5</td>\n",
       "      <td>0</td>\n",
       "      <td>16</td>\n",
       "      <td>1</td>\n",
       "      <td>286</td>\n",
       "    </tr>\n",
       "    <tr>\n",
       "      <th>4</th>\n",
       "      <td>1000014754</td>\n",
       "      <td>465426190</td>\n",
       "      <td>1625382421168</td>\n",
       "      <td>5</td>\n",
       "      <td>0</td>\n",
       "      <td>5</td>\n",
       "      <td>0</td>\n",
       "      <td>0</td>\n",
       "    </tr>\n",
       "    <tr>\n",
       "      <th>5</th>\n",
       "      <td>1000014754</td>\n",
       "      <td>465815972</td>\n",
       "      <td>1625382421168</td>\n",
       "      <td>5</td>\n",
       "      <td>0</td>\n",
       "      <td>4</td>\n",
       "      <td>1</td>\n",
       "      <td>285</td>\n",
       "    </tr>\n",
       "    <tr>\n",
       "      <th>6</th>\n",
       "      <td>1000014754</td>\n",
       "      <td>465991958</td>\n",
       "      <td>1625382421168</td>\n",
       "      <td>5</td>\n",
       "      <td>0</td>\n",
       "      <td>0</td>\n",
       "      <td>1</td>\n",
       "      <td>353</td>\n",
       "    </tr>\n",
       "    <tr>\n",
       "      <th>7</th>\n",
       "      <td>1000014754</td>\n",
       "      <td>463067100</td>\n",
       "      <td>1624757147178</td>\n",
       "      <td>5</td>\n",
       "      <td>0</td>\n",
       "      <td>13</td>\n",
       "      <td>0</td>\n",
       "      <td>0</td>\n",
       "    </tr>\n",
       "    <tr>\n",
       "      <th>8</th>\n",
       "      <td>1000014754</td>\n",
       "      <td>464264603</td>\n",
       "      <td>1625011694982</td>\n",
       "      <td>5</td>\n",
       "      <td>1</td>\n",
       "      <td>18</td>\n",
       "      <td>0</td>\n",
       "      <td>0</td>\n",
       "    </tr>\n",
       "    <tr>\n",
       "      <th>9</th>\n",
       "      <td>1000014754</td>\n",
       "      <td>464295109</td>\n",
       "      <td>1625009731701</td>\n",
       "      <td>5</td>\n",
       "      <td>0</td>\n",
       "      <td>19</td>\n",
       "      <td>1</td>\n",
       "      <td>215</td>\n",
       "    </tr>\n",
       "  </tbody>\n",
       "</table>\n",
       "</div>"
      ]
     },
     "metadata": {},
     "execution_count": 6
    }
   ],
   "metadata": {}
  },
  {
   "cell_type": "code",
   "execution_count": 11,
   "source": [
    "def get_interval(x):\n",
    "    item_id = x['item_id']\n",
    "    return x['time'] - time_dict[item_id]"
   ],
   "outputs": [],
   "metadata": {}
  },
  {
   "cell_type": "code",
   "execution_count": 12,
   "source": [
    "interval = train.progress_apply(get_interval, axis=1)\n",
    "interval.loc[interval<0] = 0\n",
    "interval.describe()"
   ],
   "outputs": [
    {
     "output_type": "stream",
     "name": "stderr",
     "text": [
      "pandas bar: 100%|██████████| 189766959/189766959 [42:23<00:00, 74622.54it/s]\n"
     ]
    },
    {
     "output_type": "execute_result",
     "data": {
      "text/plain": [
       "count     189766959.000\n",
       "mean      103783111.404\n",
       "std       283037560.188\n",
       "min               0.000\n",
       "25%        44566409.000\n",
       "50%        87798774.000\n",
       "75%       154696761.000\n",
       "max     62182241539.000\n",
       "dtype: float64"
      ]
     },
     "metadata": {},
     "execution_count": 12
    }
   ],
   "metadata": {}
  },
  {
   "cell_type": "markdown",
   "source": [
    "大于10天的间隔都记为一类, 小于3天的按4小时来记, 大于3天小于10天的按天来记"
   ],
   "metadata": {}
  },
  {
   "cell_type": "code",
   "execution_count": 19,
   "source": [
    "with open(r'./interval.pkl', 'wb') as f:\n",
    "    pickle.dump(interval, f)\n",
    "#with open(r'./interval.pkl', 'rb') as f:\n",
    "#    interval = pickle.load(f)"
   ],
   "outputs": [],
   "metadata": {}
  },
  {
   "cell_type": "code",
   "execution_count": 13,
   "source": [
    "def convert_interval(x):\n",
    "    x = int(x / 1000)\n",
    "    if x < 144000:\n",
    "        t = time.localtime(x)\n",
    "        return int(((t.tm_mday-1) * 24 + t.tm_hour - 8) / 4)\n",
    "    elif x < 748800:\n",
    "        t = time.localtime(x)\n",
    "        return 24 -3 +t.tm_mday\n",
    "    else:\n",
    "        return 32\n",
    "\n",
    "interval = interval.progress_apply(convert_interval)"
   ],
   "outputs": [
    {
     "output_type": "stream",
     "name": "stderr",
     "text": [
      "pandas bar: 100%|██████████| 189766959/189766959 [07:18<00:00, 433176.73it/s]\n"
     ]
    }
   ],
   "metadata": {}
  },
  {
   "cell_type": "code",
   "execution_count": 14,
   "source": [
    "test['interval'] = test.apply(get_interval, axis=1)\n",
    "test['interval'].loc[test['interval']<0] = 0\n",
    "test['interval'] = test['interval'].progress_apply(convert_interval)"
   ],
   "outputs": [
    {
     "output_type": "stream",
     "name": "stderr",
     "text": [
      "pandas bar: 100%|██████████| 50000/50000 [00:00<00:00, 410639.43it/s]\n"
     ]
    }
   ],
   "metadata": {}
  },
  {
   "cell_type": "code",
   "execution_count": 15,
   "source": [
    "train['interval'] = interval"
   ],
   "outputs": [],
   "metadata": {}
  },
  {
   "cell_type": "code",
   "execution_count": 17,
   "source": [
    "interval.describe()"
   ],
   "outputs": [
    {
     "output_type": "execute_result",
     "data": {
      "text/plain": [
       "count   189766959.000\n",
       "mean            9.733\n",
       "std             9.312\n",
       "min             0.000\n",
       "25%             3.000\n",
       "50%             6.000\n",
       "75%            24.000\n",
       "max            32.000\n",
       "dtype: float64"
      ]
     },
     "metadata": {},
     "execution_count": 17
    }
   ],
   "metadata": {}
  },
  {
   "cell_type": "code",
   "execution_count": 3,
   "source": [
    "#day = train['time'].progress_apply(lambda x: time.localtime(int(x)).tm_wday)\n",
    "hour = train['time'].progress_apply(lambda x: time.localtime(int(x)).tm_hour)"
   ],
   "outputs": [
    {
     "output_type": "stream",
     "name": "stderr",
     "text": [
      "pandas bar: 100%|██████████| 189766959/189766959 [06:59<00:00, 452315.17it/s]\n"
     ]
    }
   ],
   "metadata": {}
  },
  {
   "cell_type": "code",
   "execution_count": 20,
   "source": [
    "with open(r'./day_hour.pkl', 'rb') as f:\n",
    "    day, hour = pickle.load((f))"
   ],
   "outputs": [],
   "metadata": {}
  },
  {
   "cell_type": "code",
   "execution_count": 21,
   "source": [
    "#train['day'] = day\n",
    "train['hour'] = hour"
   ],
   "outputs": [],
   "metadata": {}
  },
  {
   "cell_type": "code",
   "execution_count": 22,
   "source": [
    "#test['day'] = test['time'].progress_apply(lambda x: time.localtime(int(x)).tm_wday)\n",
    "test['hour'] = test['time'].progress_apply(lambda x: time.localtime(int(x)).tm_hour)"
   ],
   "outputs": [
    {
     "output_type": "stream",
     "name": "stderr",
     "text": [
      "pandas bar: 100%|██████████| 50000/50000 [00:00<00:00, 434336.84it/s]\n"
     ]
    }
   ],
   "metadata": {}
  },
  {
   "cell_type": "code",
   "execution_count": 6,
   "source": [
    "train = reduce_mem_usage(train)"
   ],
   "outputs": [
    {
     "output_type": "stream",
     "name": "stdout",
     "text": [
      "Mem. usage decreased to 5429.28 Mb (53.1% reduction)\n"
     ]
    }
   ],
   "metadata": {}
  },
  {
   "cell_type": "code",
   "execution_count": 7,
   "source": [
    "train['cvr'] = train['duration']\n",
    "train.loc[train['label']==0, 'cvr'] = 0"
   ],
   "outputs": [],
   "metadata": {}
  },
  {
   "cell_type": "code",
   "execution_count": 9,
   "source": [
    "train.loc[train['cvr']<0, 'cvr'] = 1"
   ],
   "outputs": [],
   "metadata": {}
  },
  {
   "cell_type": "code",
   "execution_count": 10,
   "source": [
    "def get_log(x):\n",
    "    if x < 1:\n",
    "        return x\n",
    "    else:\n",
    "        return np.log10(x) + 1\n",
    "\n",
    "train['cvr_log'] = train['cvr'].progress_apply(get_log)"
   ],
   "outputs": [
    {
     "output_type": "stream",
     "name": "stderr",
     "text": [
      "pandas bar: 100%|██████████| 189766959/189766959 [04:11<00:00, 753556.13it/s]\n"
     ]
    }
   ],
   "metadata": {}
  },
  {
   "cell_type": "code",
   "execution_count": 11,
   "source": [
    "train['cvr_log'].describe()"
   ],
   "outputs": [
    {
     "output_type": "execute_result",
     "data": {
      "text/plain": [
       "count    1.897670e+08\n",
       "mean     4.162415e-01\n",
       "std      1.042156e+00\n",
       "min      0.000000e+00\n",
       "25%      0.000000e+00\n",
       "50%      0.000000e+00\n",
       "75%      0.000000e+00\n",
       "max      9.791912e+00\n",
       "Name: cvr_log, dtype: float64"
      ]
     },
     "metadata": {},
     "execution_count": 11
    }
   ],
   "metadata": {}
  },
  {
   "cell_type": "code",
   "execution_count": 10,
   "source": [
    "train.info()"
   ],
   "outputs": [
    {
     "output_type": "stream",
     "name": "stdout",
     "text": [
      "<class 'pandas.core.frame.DataFrame'>\n",
      "RangeIndex: 189766959 entries, 0 to 189766958\n",
      "Data columns (total 8 columns):\n",
      " #   Column    Dtype\n",
      "---  ------    -----\n",
      " 0   user_id   int64\n",
      " 1   item_id   int32\n",
      " 2   time      int64\n",
      " 3   network   int8 \n",
      " 4   refresh   int16\n",
      " 5   position  int16\n",
      " 6   label     int8 \n",
      " 7   duration  int32\n",
      "dtypes: int16(2), int32(2), int64(2), int8(2)\n",
      "memory usage: 5.3 GB\n"
     ]
    }
   ],
   "metadata": {}
  },
  {
   "cell_type": "code",
   "execution_count": 27,
   "source": [
    "train['network'].min(), train['network'].max()"
   ],
   "outputs": [
    {
     "output_type": "execute_result",
     "data": {
      "text/plain": [
       "(2, 5)"
      ]
     },
     "metadata": {},
     "execution_count": 27
    }
   ],
   "metadata": {}
  },
  {
   "cell_type": "code",
   "execution_count": 28,
   "source": [
    "train['refresh'].min(), train['refresh'].max()"
   ],
   "outputs": [
    {
     "output_type": "execute_result",
     "data": {
      "text/plain": [
       "(0, 650)"
      ]
     },
     "metadata": {},
     "execution_count": 28
    }
   ],
   "metadata": {}
  },
  {
   "cell_type": "code",
   "execution_count": 8,
   "source": [
    "train['day'].min(), train['day'].max()"
   ],
   "outputs": [
    {
     "output_type": "execute_result",
     "data": {
      "text/plain": [
       "(0, 6)"
      ]
     },
     "metadata": {},
     "execution_count": 8
    }
   ],
   "metadata": {}
  },
  {
   "cell_type": "code",
   "execution_count": 12,
   "source": [
    "train['hour'].min(), train['hour'].max()"
   ],
   "outputs": [
    {
     "output_type": "execute_result",
     "data": {
      "text/plain": [
       "(0, 23)"
      ]
     },
     "metadata": {},
     "execution_count": 12
    }
   ],
   "metadata": {}
  },
  {
   "cell_type": "code",
   "execution_count": 26,
   "source": [
    "train.shape, test.shape"
   ],
   "outputs": [
    {
     "output_type": "execute_result",
     "data": {
      "text/plain": [
       "((189766959, 8), (50000, 6))"
      ]
     },
     "metadata": {},
     "execution_count": 26
    }
   ],
   "metadata": {}
  },
  {
   "cell_type": "markdown",
   "source": [
    "- 训练集的结束时间为2021.6.24 22:56:53, 训练集的结束时间为2021.7.6 23:59:59\n",
    "- 测试集的开始时间为2021.7.7 00:00:04, 测试集的结束时间为2021.7.7 23:41:22\n",
    "- 验证集截取7.6一天的数据"
   ],
   "metadata": {}
  },
  {
   "cell_type": "code",
   "execution_count": 27,
   "source": [
    "train['time'].max(), train['time'].min()"
   ],
   "outputs": [
    {
     "output_type": "execute_result",
     "data": {
      "text/plain": [
       "(1625587199972, 1624546613949)"
      ]
     },
     "metadata": {},
     "execution_count": 27
    }
   ],
   "metadata": {}
  },
  {
   "cell_type": "code",
   "execution_count": 28,
   "source": [
    "test['time'].max(), test['time'].min()"
   ],
   "outputs": [
    {
     "output_type": "execute_result",
     "data": {
      "text/plain": [
       "(1625672482794, 1625587204226)"
      ]
     },
     "metadata": {},
     "execution_count": 28
    }
   ],
   "metadata": {}
  },
  {
   "cell_type": "code",
   "execution_count": 12,
   "source": [
    "with open(r'./train_online_ml.pkl', 'wb') as f:\n",
    "    pickle.dump(train[['user_id', 'item_id', 'network', 'refresh', 'label', 'cvr_log']].to_numpy(), f, pickle.HIGHEST_PROTOCOL)"
   ],
   "outputs": [],
   "metadata": {}
  },
  {
   "cell_type": "code",
   "execution_count": 13,
   "source": [
    "validation = train.loc[train['time']>1625500811000]\n",
    "validation.shape"
   ],
   "outputs": [
    {
     "output_type": "execute_result",
     "data": {
      "text/plain": [
       "(15192000, 10)"
      ]
     },
     "metadata": {},
     "execution_count": 13
    }
   ],
   "metadata": {}
  },
  {
   "cell_type": "code",
   "execution_count": null,
   "source": [
    "train = train.loc[set(train.index) - set(validation.index)]\n",
    "train.shape"
   ],
   "outputs": [],
   "metadata": {}
  },
  {
   "cell_type": "code",
   "execution_count": null,
   "source": [
    "train = train[['user_id', 'item_id', 'network', 'refresh', 'label', 'cvr_log']]\n",
    "validation = validation[['user_id', 'item_id', 'network', 'refresh', 'label', 'cvr_log']]\n",
    "test = test[['user_id', 'item_id', 'network', 'refresh']]"
   ],
   "outputs": [],
   "metadata": {}
  },
  {
   "cell_type": "code",
   "execution_count": 23,
   "source": [
    "len(set(test['user_id']) - set(train['user_id']))"
   ],
   "outputs": [
    {
     "output_type": "execute_result",
     "data": {
      "text/plain": [
       "1718"
      ]
     },
     "metadata": {},
     "execution_count": 23
    }
   ],
   "metadata": {}
  },
  {
   "cell_type": "code",
   "execution_count": 31,
   "source": [
    "user['user_id'].nunique()"
   ],
   "outputs": [
    {
     "output_type": "execute_result",
     "data": {
      "text/plain": [
       "1538384"
      ]
     },
     "metadata": {},
     "execution_count": 31
    }
   ],
   "metadata": {}
  },
  {
   "cell_type": "markdown",
   "source": [
    "# 存储数据"
   ],
   "metadata": {}
  },
  {
   "cell_type": "code",
   "execution_count": 36,
   "source": [
    "with open(r'./train.pkl', 'wb') as f:\n",
    "    pickle.dump(train.to_numpy(), f, pickle.HIGHEST_PROTOCOL)\n",
    "with open(r'./test.pkl', 'wb') as f:\n",
    "    pickle.dump(test.to_numpy(), f, pickle.HIGHEST_PROTOCOL)\n",
    "with open(r'./validation.pkl', 'wb') as f:\n",
    "    pickle.dump(validation.to_numpy(), f, pickle.HIGHEST_PROTOCOL)\n",
    "with open(r'./user_feature.pkl', 'wb') as f:\n",
    "    pickle.dump(user, f, pickle.HIGHEST_PROTOCOL)\n",
    "with open(r'./item_feature.pkl', 'wb') as f:\n",
    "    pickle.dump(item, f, pickle.HIGHEST_PROTOCOL)\n",
    "with open(r'./id_dict.pkl', 'wb') as f:\n",
    "    pickle.dump((uid_dict, iid_dict), f, pickle.HIGHEST_PROTOCOL)\n",
    "    "
   ],
   "outputs": [],
   "metadata": {}
  },
  {
   "cell_type": "code",
   "execution_count": 35,
   "source": [
    "with open(r'./item_feature.pkl', 'wb') as f:\n",
    "    pickle.dump(item, f, pickle.HIGHEST_PROTOCOL)"
   ],
   "outputs": [],
   "metadata": {}
  },
  {
   "cell_type": "code",
   "execution_count": 17,
   "source": [
    "import json\n",
    "info_dict = {'feat_field': {}, 'vocabulary_size':{}, 'feat_type':{'dense':[], 'sparse':[], 'multi-hot':[]}, 'sample_num': train.shape[0], 'user_num': user.shape[0], 'item_num': item.shape[0]}\n",
    "\n",
    "user_feats = list(user.columns)\n",
    "user_feats.remove('user_age')\n",
    "user_feats.remove('user_gender')\n",
    "for feat in user_feats:\n",
    "    info_dict['vocabulary_size'][feat] = user[feat].nunique()\n",
    "info_dict['vocabulary_size']['user_age'] = 4\n",
    "info_dict['vocabulary_size']['user_gender'] = 2\n",
    "\n",
    "for feat in list(item.columns):\n",
    "    info_dict['vocabulary_size'][feat] = item[feat].nunique()\n",
    "\n",
    "for feat in ['network', 'refresh']:\n",
    "    info_dict['vocabulary_size'][feat] = train[feat].nunique()\n",
    "info_dict['vocabulary_size']['network'] = 6\n",
    "info_dict['vocabulary_size']['day'] = 7\n",
    "info_dict['vocabulary_size']['hour'] = 24\n",
    "info_dict['feat_type']['sparse'] = user_feats + list(item.columns) + ['network', 'refresh']\n",
    "info_dict['feat_type']['multi-hot'] = ['user_age', 'user_gender']\n",
    "info_dict['feat_field']['user'] = list(user.columns)\n",
    "info_dict['feat_field']['item'] = list(item.columns)\n",
    "info_dict['feat_field']['inter'] = list(train.columns)\n",
    "\n",
    "with open(r'./info.json', 'w') as f:\n",
    "    json.dump(info_dict, f)"
   ],
   "outputs": [
    {
     "output_type": "error",
     "ename": "NameError",
     "evalue": "name 'item' is not defined",
     "traceback": [
      "\u001b[0;31m---------------------------------------------------------------------------\u001b[0m",
      "\u001b[0;31mNameError\u001b[0m                                 Traceback (most recent call last)",
      "\u001b[0;32m<ipython-input-17-738bf4b7f769>\u001b[0m in \u001b[0;36m<module>\u001b[0;34m\u001b[0m\n\u001b[1;32m      1\u001b[0m \u001b[0;32mimport\u001b[0m \u001b[0mjson\u001b[0m\u001b[0;34m\u001b[0m\u001b[0;34m\u001b[0m\u001b[0m\n\u001b[0;32m----> 2\u001b[0;31m \u001b[0minfo_dict\u001b[0m \u001b[0;34m=\u001b[0m \u001b[0;34m{\u001b[0m\u001b[0;34m'feat_field'\u001b[0m\u001b[0;34m:\u001b[0m \u001b[0;34m{\u001b[0m\u001b[0;34m}\u001b[0m\u001b[0;34m,\u001b[0m \u001b[0;34m'vocabulary_size'\u001b[0m\u001b[0;34m:\u001b[0m\u001b[0;34m{\u001b[0m\u001b[0;34m}\u001b[0m\u001b[0;34m,\u001b[0m \u001b[0;34m'feat_type'\u001b[0m\u001b[0;34m:\u001b[0m\u001b[0;34m{\u001b[0m\u001b[0;34m'dense'\u001b[0m\u001b[0;34m:\u001b[0m\u001b[0;34m[\u001b[0m\u001b[0;34m]\u001b[0m\u001b[0;34m,\u001b[0m \u001b[0;34m'sparse'\u001b[0m\u001b[0;34m:\u001b[0m\u001b[0;34m[\u001b[0m\u001b[0;34m]\u001b[0m\u001b[0;34m,\u001b[0m \u001b[0;34m'multi-hot'\u001b[0m\u001b[0;34m:\u001b[0m\u001b[0;34m[\u001b[0m\u001b[0;34m]\u001b[0m\u001b[0;34m}\u001b[0m\u001b[0;34m,\u001b[0m \u001b[0;34m'sample_num'\u001b[0m\u001b[0;34m:\u001b[0m \u001b[0mtrain\u001b[0m\u001b[0;34m.\u001b[0m\u001b[0mshape\u001b[0m\u001b[0;34m[\u001b[0m\u001b[0;36m0\u001b[0m\u001b[0;34m]\u001b[0m\u001b[0;34m,\u001b[0m \u001b[0;34m'user_num'\u001b[0m\u001b[0;34m:\u001b[0m \u001b[0muser\u001b[0m\u001b[0;34m.\u001b[0m\u001b[0mshape\u001b[0m\u001b[0;34m[\u001b[0m\u001b[0;36m0\u001b[0m\u001b[0;34m]\u001b[0m\u001b[0;34m,\u001b[0m \u001b[0;34m'item_num'\u001b[0m\u001b[0;34m:\u001b[0m \u001b[0mitem\u001b[0m\u001b[0;34m.\u001b[0m\u001b[0mshape\u001b[0m\u001b[0;34m[\u001b[0m\u001b[0;36m0\u001b[0m\u001b[0;34m]\u001b[0m\u001b[0;34m}\u001b[0m\u001b[0;34m\u001b[0m\u001b[0;34m\u001b[0m\u001b[0m\n\u001b[0m\u001b[1;32m      3\u001b[0m \u001b[0;34m\u001b[0m\u001b[0m\n\u001b[1;32m      4\u001b[0m \u001b[0muser_feats\u001b[0m \u001b[0;34m=\u001b[0m \u001b[0mlist\u001b[0m\u001b[0;34m(\u001b[0m\u001b[0muser\u001b[0m\u001b[0;34m.\u001b[0m\u001b[0mcolumns\u001b[0m\u001b[0;34m)\u001b[0m\u001b[0;34m\u001b[0m\u001b[0;34m\u001b[0m\u001b[0m\n\u001b[1;32m      5\u001b[0m \u001b[0muser_feats\u001b[0m\u001b[0;34m.\u001b[0m\u001b[0mremove\u001b[0m\u001b[0;34m(\u001b[0m\u001b[0;34m'user_age'\u001b[0m\u001b[0;34m)\u001b[0m\u001b[0;34m\u001b[0m\u001b[0;34m\u001b[0m\u001b[0m\n",
      "\u001b[0;31mNameError\u001b[0m: name 'item' is not defined"
     ]
    }
   ],
   "metadata": {}
  },
  {
   "cell_type": "code",
   "execution_count": 38,
   "source": [
    "dict(user.nunique())"
   ],
   "outputs": [
    {
     "output_type": "execute_result",
     "data": {
      "text/plain": [
       "{'user_id': 1538384,\n",
       " 'user_device': 3096,\n",
       " 'user_system': 3,\n",
       " 'user_province': 328,\n",
       " 'user_city': 768}"
      ]
     },
     "metadata": {},
     "execution_count": 38
    }
   ],
   "metadata": {}
  },
  {
   "cell_type": "code",
   "execution_count": 6,
   "source": [
    "with open('./doc_statis.pkl', 'rb') as f:\n",
    "    item_static = pickle.load(f) "
   ],
   "outputs": [],
   "metadata": {}
  },
  {
   "cell_type": "code",
   "execution_count": 7,
   "source": [
    "item_static.columns"
   ],
   "outputs": [
    {
     "output_type": "execute_result",
     "data": {
      "text/plain": [
       "Index(['doc_id', 'doc_exposure_cnt', 'doc_click_cnt', 'doc_consumption_min',\n",
       "       'doc_consumption_mean', 'doc_consumption_max', 'doc_consumption_sum',\n",
       "       'doc_age_mean', 'doc_age0_rat', 'doc_age1_cnt', 'doc_age2_cnt',\n",
       "       'doc_age3_cnt', 'doc_gender_cnt', 'doc_show_position_mean',\n",
       "       'doc_refresh_min', 'doc_refresh_mean', 'doc_refresh_max',\n",
       "       'doc_refresh_sum', 'doc_freshness'],\n",
       "      dtype='object')"
      ]
     },
     "metadata": {},
     "execution_count": 7
    }
   ],
   "metadata": {}
  },
  {
   "cell_type": "code",
   "execution_count": null,
   "source": [],
   "outputs": [],
   "metadata": {}
  }
 ],
 "metadata": {
  "orig_nbformat": 4,
  "language_info": {
   "name": "python",
   "version": "3.7.10",
   "mimetype": "text/x-python",
   "codemirror_mode": {
    "name": "ipython",
    "version": 3
   },
   "pygments_lexer": "ipython3",
   "nbconvert_exporter": "python",
   "file_extension": ".py"
  },
  "kernelspec": {
   "name": "python3",
   "display_name": "Python 3.7.10 64-bit ('rec': conda)"
  },
  "interpreter": {
   "hash": "9c7f61cd7af8a91025d9808f8ebc6c0f0cafdddc4c9ffe8ba00f0e1268577df3"
  }
 },
 "nbformat": 4,
 "nbformat_minor": 2
}